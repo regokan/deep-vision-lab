{
 "cells": [
  {
   "cell_type": "markdown",
   "id": "77b62acb-d2a3-4108-b0a7-89260add40c3",
   "metadata": {},
   "source": [
    "**Module Paths**"
   ]
  },
  {
   "cell_type": "code",
   "execution_count": 1,
   "id": "5ad9bba7-e5b7-450c-91f4-b5c31b0bc083",
   "metadata": {},
   "outputs": [],
   "source": [
    "import os\n",
    "\n",
    "os.chdir(\"../../\")"
   ]
  },
  {
   "cell_type": "markdown",
   "id": "215ac74e-2073-425c-80aa-246480934f32",
   "metadata": {},
   "source": [
    "The app will show the top 5 classes that the model think are most relevant for the picture you have uploaded"
   ]
  },
  {
   "cell_type": "code",
   "execution_count": 2,
   "id": "d935b2bb-9d90-40c6-bbce-78ed4ea4571a",
   "metadata": {},
   "outputs": [
    {
     "data": {
      "application/vnd.jupyter.widget-view+json": {
       "model_id": "707acba873674998a08b7d008e0c4e56",
       "version_major": 2,
       "version_minor": 0
      },
      "text/plain": [
       "VBox(children=(Label(value='Please upload a picture of a landmark'), FileUpload(value=(), accept='image/*', de…"
      ]
     },
     "metadata": {},
     "output_type": "display_data"
    }
   ],
   "source": [
    "from ipywidgets import VBox, Button, FileUpload, Output, Label\n",
    "from PIL import Image\n",
    "from IPython.display import display\n",
    "import io\n",
    "import numpy as np\n",
    "import torchvision.transforms as T\n",
    "import torch\n",
    "\n",
    "# Load the model\n",
    "learn_inf = torch.jit.load(\"checkpoints/transfer_exported.pt\")\n",
    "\n",
    "\n",
    "def on_click_classify(change):\n",
    "    try:\n",
    "        # Ensure there is a file uploaded\n",
    "        if not btn_upload.value:\n",
    "            print(\"No file uploaded.\")\n",
    "            return\n",
    "\n",
    "        # Get the uploaded file content\n",
    "        uploaded_file = list(btn_upload.value)[0]\n",
    "        file_content = uploaded_file[\n",
    "            \"content\"\n",
    "        ]  # Get the content of the first file in the dictionary\n",
    "\n",
    "        # Load the image from the file content\n",
    "        fn = io.BytesIO(file_content)\n",
    "        img = Image.open(fn)\n",
    "        img.load()\n",
    "\n",
    "        # Clear previous output\n",
    "        out_pl.clear_output()\n",
    "\n",
    "        # Display the image in the output\n",
    "        with out_pl:\n",
    "            ratio = img.size[0] / img.size[1]\n",
    "            c = img.copy()\n",
    "            c.thumbnail([ratio * 200, 200])\n",
    "            display(c)\n",
    "\n",
    "        # Transform image to tensor\n",
    "        timg = T.ToTensor()(img).unsqueeze_(0)\n",
    "\n",
    "        # Make a prediction\n",
    "        softmax = learn_inf(timg).data.cpu().numpy().squeeze()\n",
    "\n",
    "        # Get top 5 predictions\n",
    "        idxs = np.argsort(softmax)[::-1][:5]\n",
    "\n",
    "        for i, idx in enumerate(idxs):\n",
    "            prob = softmax[idx]\n",
    "            label_name = learn_inf.class_names[\n",
    "                idx\n",
    "            ]  # Accessing class names from the model\n",
    "            labels[i].value = f\"{label_name} (prob: {prob:.2f})\"\n",
    "\n",
    "    except Exception as e:\n",
    "        out_pl.append_stdout(f\"Error: {e}\")\n",
    "\n",
    "\n",
    "# File upload widget\n",
    "btn_upload = FileUpload(accept=\"image/*\", multiple=False)\n",
    "\n",
    "# Button to run classification\n",
    "btn_run = Button(description=\"Classify\")\n",
    "btn_run.on_click(on_click_classify)\n",
    "\n",
    "# Labels to display top predictions\n",
    "labels = [Label() for _ in range(5)]\n",
    "\n",
    "# Output widget for image display\n",
    "out_pl = Output()\n",
    "out_pl.clear_output()\n",
    "\n",
    "# VBox layout\n",
    "wgs = [Label(\"Please upload a picture of a landmark\"), btn_upload, btn_run, out_pl]\n",
    "wgs.extend(labels)\n",
    "display(VBox(wgs))"
   ]
  },
  {
   "cell_type": "markdown",
   "id": "174906bc-fe53-4538-b7a3-ab68d80eb383",
   "metadata": {},
   "source": [
    " "
   ]
  }
 ],
 "metadata": {
  "kernelspec": {
   "display_name": "Python 3 (ipykernel)",
   "language": "python",
   "name": "python3"
  },
  "language_info": {
   "codemirror_mode": {
    "name": "ipython",
    "version": 3
   },
   "file_extension": ".py",
   "mimetype": "text/x-python",
   "name": "python",
   "nbconvert_exporter": "python",
   "pygments_lexer": "ipython3",
   "version": "3.12.3"
  }
 },
 "nbformat": 4,
 "nbformat_minor": 5
}
